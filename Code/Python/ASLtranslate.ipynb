{
 "cells": [
  {
   "cell_type": "markdown",
   "metadata": {},
   "source": [
    "# ASLtranslate\n",
    "### An American Sign Language Detection\n",
    "\n",
    "**Author:** Andrea Murphy\n",
    "\n",
    "**Purpose:** To build an object detection system that finds ASL letters gestures from 2D photos translates them to English letters. \n",
    "\n",
    "**Description:** Using an ALS alphabet database or gallery of images for feature extraction templates and create a learning model from the features to create a classifier to detect the input images. \n",
    "\n",
    "# [**Dataset**](https://www.kaggle.com/grassknoted/asl-alphabet) \n",
    "\n",
    "**ASL Alphabet Training:** This is used at the input dataset is the basis for the model.\n",
    "The training data set contained 87,000 images which are 200x200 pixels. There are 29 classes, of which 26 are for the letters A-Z\n",
    "\n",
    "**ASL Alphabet Test:** This data set was made specifically for validating the model created using the above data set, and is intended to be used to improve the feature engineering"
   ]
  },
  {
   "cell_type": "code",
   "execution_count": null,
   "metadata": {},
   "outputs": [],
   "source": [
    "# Imports for Deep Learning\n",
    "from tensorflow.keras.layers import Conv2D, Dense, Dropout, Flatten\n",
    "from tensorflow.keras.models import Sequential, load_model\n",
    "\n",
    "\n",
    "from keras.models import EarlyStoping \n",
    "from keras.preprocessing.image import ImageDataGenerator\n",
    "\n",
    "# Ensures consistency\n",
    "# Seed function is used to save the state of random function\n",
    "from numpy.random import seed\n",
    "import random\n",
    "seed(2)\n",
    "from tensorflow import set_random_seed\n",
    "set_random_seed(2)\n",
    "\n",
    "# Imports to view the data\n",
    "import cv2\n",
    "from glob import glob\n",
    "\n",
    "# Metrics\n",
    "from sklearn.metrics import classification_report, confusion_matrix\n",
    "\n",
    "# Visualization\n",
    "from keras.utils import print_summary\n",
    "from matplotlib import pyplot as plt\n",
    "import seaborn as sns\n",
    "sns.set()\n",
    "\n",
    "# Utils\n",
    "from pathlib import Path\n",
    "import pandas as pd\n",
    "import numpy as np\n",
    "from os import getenv\n",
    "import time\n",
    "import itertools\n",
    "\n",
    "# Image Preprocessing\n",
    "from skimage.filters import sobel, scharr"
   ]
  },
  {
   "cell_type": "code",
   "execution_count": null,
   "metadata": {},
   "outputs": [],
   "source": [
    "# Set global variables\n",
    "TRAIN_DIR = '/asl_alphabet_train'\n",
    "TEST_DIR = '/asl_alphabet_test'\n",
    "#CUSTOM_TEST_DIR = '../input/asl-alphabet-test/asl-alphabet-test'\n",
    "\n",
    "CLASSES = [folder[len(TRAIN_DIR) + 1:] for folder in glob(TRAIN_DIR + '/*')]\n",
    "CLASSES.sort()\n",
    "\n",
    "TARGET_SIZE = (64, 64)\n",
    "TARGET_DIMS = (64, 64, 3) # add channel for RGB\n",
    "N_CLASSES = 29\n",
    "VALIDATION_SPLIT = 0.1\n",
    "BATCH_SIZE = 64"
   ]
  },
  {
   "cell_type": "code",
   "execution_count": null,
   "metadata": {},
   "outputs": [],
   "source": [
    "def plot_one_sample_of_each(base_path):\n",
    "    cols = 5\n",
    "    rows = int(np.ceil(len(CLASSES) / cols))\n",
    "    fig = plt.figure(figsize=(16, 20))\n",
    "    \n",
    "    for i in range(len(CLASSES)):\n",
    "        cls = CLASSES[i]\n",
    "        img_path = base_path + '/' + cls + '/**'\n",
    "        path_contents = glob(img_path)\n",
    "    \n",
    "        imgs = random.sample(path_contents, 1)\n",
    "\n",
    "        sp = plt.subplot(rows, cols, i + 1)\n",
    "        plt.imshow(cv2.imread(imgs[0]))\n",
    "        plt.title(cls)\n",
    "        sp.axis('off')\n",
    "\n",
    "    plt.show()\n",
    "    return"
   ]
  },
  {
   "cell_type": "code",
   "execution_count": null,
   "metadata": {},
   "outputs": [],
   "source": []
  }
 ],
 "metadata": {
  "kernelspec": {
   "display_name": "Python 3",
   "language": "python",
   "name": "python3"
  },
  "language_info": {
   "codemirror_mode": {
    "name": "ipython",
    "version": 3
   },
   "file_extension": ".py",
   "mimetype": "text/x-python",
   "name": "python",
   "nbconvert_exporter": "python",
   "pygments_lexer": "ipython3",
   "version": "3.7.4"
  }
 },
 "nbformat": 4,
 "nbformat_minor": 2
}
